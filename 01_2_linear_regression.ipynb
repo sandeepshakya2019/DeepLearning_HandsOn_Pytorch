{
 "cells": [
  {
   "cell_type": "code",
   "execution_count": 1,
   "metadata": {},
   "outputs": [],
   "source": [
    "import torch\n",
    "import matplotlib.pyplot as plt"
   ]
  },
  {
   "cell_type": "code",
   "execution_count": 2,
   "metadata": {},
   "outputs": [
    {
     "data": {
      "text/plain": [
       "(torch.Size([70, 1]), torch.Size([70, 1]))"
      ]
     },
     "execution_count": 2,
     "metadata": {},
     "output_type": "execute_result"
    }
   ],
   "source": [
    "# create the data \n",
    "w = 5\n",
    "b = 4\n",
    "X = torch.linspace(0,50, 70).reshape(-1,1)\n",
    "y = w * X + b + 12 * torch.rand(size=(X.shape[0], 1))\n",
    "X.shape, y.shape"
   ]
  },
  {
   "cell_type": "code",
   "execution_count": 3,
   "metadata": {},
   "outputs": [
    {
     "data": {
      "text/plain": [
       "(torch.Size([49, 1]), torch.Size([49, 1]))"
      ]
     },
     "execution_count": 3,
     "metadata": {},
     "output_type": "execute_result"
    }
   ],
   "source": [
    "from sklearn.model_selection import train_test_split\n",
    "\n",
    "X_train, X_test, y_train, y_test = train_test_split(X,y, test_size=0.3, random_state=42)\n",
    "X_train.shape, y_train.shape"
   ]
  },
  {
   "cell_type": "code",
   "execution_count": 4,
   "metadata": {},
   "outputs": [],
   "source": [
    "# plt.figure(figsize=(4,4))\n",
    "# plt.plot(X_train,y_train, \"k.\", label=\"Train Data Points\")\n",
    "# plt.plot(X_test,y_test, \"r.\", label=\"Test Data Points\")\n",
    "# plt.xlabel(\"X\")\n",
    "# plt.ylabel(\"y\")\n",
    "# plt.title(\"X vs y\")\n",
    "# plt.legend()\n",
    "# plt.show()"
   ]
  },
  {
   "cell_type": "code",
   "execution_count": 5,
   "metadata": {},
   "outputs": [],
   "source": [
    "from torch import nn\n",
    "class LinearRegression(nn.Module):\n",
    "    def __init__(self):\n",
    "        super().__init__()\n",
    "        self.w = nn.Parameter(torch.rand(1, requires_grad=True, dtype=torch.float))\n",
    "        self.b = nn.Parameter(torch.rand(1, requires_grad=True, dtype=torch.float))\n",
    "    def forward(self, x):\n",
    "        return self.w * x + self.b"
   ]
  },
  {
   "cell_type": "code",
   "execution_count": 6,
   "metadata": {},
   "outputs": [
    {
     "name": "stdout",
     "output_type": "stream",
     "text": [
      "OrderedDict({'w': tensor([0.3679]), 'b': tensor([0.8661])})\n"
     ]
    }
   ],
   "source": [
    "torch.manual_seed(40)\n",
    "model_0 = LinearRegression()\n",
    "print(model_0.state_dict())"
   ]
  },
  {
   "cell_type": "code",
   "execution_count": 7,
   "metadata": {},
   "outputs": [],
   "source": [
    "loss_function = nn.MSELoss()\n",
    "optimizer = torch.optim.SGD(params=model_0.parameters(), lr = 0.001)"
   ]
  },
  {
   "cell_type": "code",
   "execution_count": 8,
   "metadata": {},
   "outputs": [
    {
     "name": "stdout",
     "output_type": "stream",
     "text": [
      "Epoch :: 0/10000 Loss :: 21068.4219\n",
      "Epoch :: 1000/10000 Loss :: 19.5796\n",
      "Epoch :: 2000/10000 Loss :: 14.5499\n",
      "Epoch :: 3000/10000 Loss :: 12.5840\n",
      "Epoch :: 4000/10000 Loss :: 11.8156\n",
      "Epoch :: 5000/10000 Loss :: 11.5153\n",
      "Epoch :: 6000/10000 Loss :: 11.3979\n",
      "Epoch :: 7000/10000 Loss :: 11.3520\n",
      "Epoch :: 8000/10000 Loss :: 11.3341\n",
      "Epoch :: 9000/10000 Loss :: 11.3271\n"
     ]
    },
    {
     "data": {
      "text/plain": [
       "LinearRegression()"
      ]
     },
     "execution_count": 8,
     "metadata": {},
     "output_type": "execute_result"
    }
   ],
   "source": [
    "epoch = 10000\n",
    "for i in range(epoch):\n",
    "    model_0.train()\n",
    "    y_pred_train = model_0(X_train)\n",
    "    loss = loss_function(y_pred_train, y_train)\n",
    "    optimizer.zero_grad()\n",
    "    loss.backward()\n",
    "    optimizer.step()\n",
    "    model_0.eval()\n",
    "    if(i % 1000 == 0):\n",
    "        print(f\"Epoch :: {i}/{epoch} Loss :: {loss.item():.4f}\")\n",
    "\n",
    "model_0.eval() # turn off diffrent setting in pytorch evaluation/testing/dropout/batchnorm\n",
    "    "
   ]
  },
  {
   "cell_type": "code",
   "execution_count": 9,
   "metadata": {},
   "outputs": [
    {
     "name": "stdout",
     "output_type": "stream",
     "text": [
      "Test Loss is :: 3.1170\n",
      "Train Loss is :: 3.3652\n"
     ]
    }
   ],
   "source": [
    "with torch.inference_mode():\n",
    "    y_pred_test = model_0(X_test)\n",
    "    loss = loss_function(y_pred_test, y_test)\n",
    "    print(f\"Test Loss is :: {loss.item()**(1/2):.4f}\")\n",
    "    y_pred_train = model_0(X_train)\n",
    "    loss = loss_function(y_pred_train, y_train)\n",
    "    print(f\"Train Loss is :: {loss.item()**(1/2):.4f}\")"
   ]
  },
  {
   "cell_type": "code",
   "execution_count": 10,
   "metadata": {},
   "outputs": [],
   "source": [
    "with torch.inference_mode(): \n",
    "    y_pred_test = model_0(X_test)\n",
    "    y_pred_train = model_0(X_train)\n"
   ]
  },
  {
   "cell_type": "code",
   "execution_count": 11,
   "metadata": {},
   "outputs": [
    {
     "data": {
      "image/png": "[encoded data removed]",
      "text/plain": [
       "<Figure size 400x400 with 1 Axes>"
      ]
     },
     "metadata": {},
     "output_type": "display_data"
    }
   ],
   "source": [
    "plt.figure(figsize=(4,4))\n",
    "plt.plot(X_train,y_train, \"k.\", label=\"Train Points\")\n",
    "plt.plot(X_test,y_test, \"r*\", label=\"Test Points\")\n",
    "plt.plot(X_train,y_pred_train, \"g-\", label=\"Model Prediction\")\n",
    "plt.xlabel(\"X\")\n",
    "plt.ylabel(\"y\")\n",
    "plt.title(\"X vs y\")\n",
    "plt.legend()\n",
    "\n",
    "plt.show()"
   ]
  },
  {
   "cell_type": "code",
   "execution_count": null,
   "metadata": {},
   "outputs": [],
   "source": []
  }
 ],
 "metadata": {
  "kernelspec": {
   "display_name": "base",
   "language": "python",
   "name": "python3"
  },
  "language_info": {
   "codemirror_mode": {
    "name": "ipython",
    "version": 3
   },
   "file_extension": ".py",
   "mimetype": "text/x-python",
   "name": "python",
   "nbconvert_exporter": "python",
   "pygments_lexer": "ipython3",
   "version": "3.12.4"
  }
 },
 "nbformat": 4,
 "nbformat_minor": 2
}
