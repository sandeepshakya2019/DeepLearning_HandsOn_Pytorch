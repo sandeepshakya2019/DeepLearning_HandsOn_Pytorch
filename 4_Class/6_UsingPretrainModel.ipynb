{
 "cells": [
  {
   "cell_type": "markdown",
   "metadata": {},
   "source": [
    "# Using Pretrained Model (Resnet 18)"
   ]
  },
  {
   "cell_type": "code",
   "execution_count": null,
   "metadata": {},
   "outputs": [],
   "source": [
    "import torch\n",
    "import torch.nn as nn\n",
    "import torchvision.transforms as transforms\n",
    "from torchvision import datasets, models\n",
    "\n",
    "# Function to compute accuracy using argmax\n",
    "def accuracy(y_pred, y_true):\n",
    "    predicted = torch.argmax(y_pred, dim=1)  # Use argmax to get predicted labels\n",
    "    correct = (predicted == y_true).sum().item()\n",
    "    return (correct / y_true.size(0)) * 100  # Convert to percentage\n",
    "\n",
    "# Select a model (Change 'resnet18' to another model if needed)\n",
    "MODEL_NAME = \"resnet18\"\n",
    "device = torch.device(\"cpu\")\n",
    "\n",
    "# Load pre-trained ResNet-18 model\n",
    "model = models.resnet18(pretrained=True)\n",
    "print(f\"\\nLoading model: {MODEL_NAME}\")\n",
    "\n",
    "# Modify the final layer for MNIST (10 classes)\n",
    "in_features = model.fc.in_features\n",
    "model.fc = nn.Linear(in_features, 10)\n",
    "\n",
    "# Move model to device and set to evaluation mode\n",
    "model = model.to(device)\n",
    "model.eval()\n",
    "\n",
    "# Define transformations for MNIST dataset\n",
    "transform = transforms.Compose([\n",
    "    transforms.Resize((224, 224)),  # Resize to match model input\n",
    "    transforms.Grayscale(3),        # Convert grayscale to 3-channel\n",
    "    transforms.ToTensor(),          # Convert to tensor\n",
    "    transforms.Normalize((0.5,), (0.5,))  # Normalize images\n",
    "])\n",
    "\n",
    "# Load MNIST test dataset\n",
    "test_dataset = datasets.MNIST(root=\"./data\", train=False, transform=transform, download=True)\n",
    "test_loader = torch.utils.data.DataLoader(test_dataset, batch_size=64, shuffle=False)\n",
    "\n",
    "# Evaluate model on MNIST\n",
    "print(\"Running in prediction mode...\")\n",
    "total_correct, total_samples = 0, 0\n",
    "\n",
    "with torch.no_grad():\n",
    "    for images, labels in test_loader:\n",
    "        images, labels = images.to(device), labels.to(device)\n",
    "        outputs = model(images)\n",
    "        \n",
    "        # Compute batch accuracy\n",
    "        batch_acc = accuracy(outputs, labels)\n",
    "        total_correct += (batch_acc / 100) * labels.size(0)\n",
    "        total_samples += labels.size(0)\n",
    "\n",
    "# Compute final accuracy\n",
    "final_accuracy = (total_correct / total_samples) * 100\n",
    "print(f\"Accuracy of {MODEL_NAME} on MNIST test data: {final_accuracy:.2f}%\")\n"
   ]
  },
  {
   "cell_type": "code",
   "execution_count": null,
   "metadata": {},
   "outputs": [],
   "source": []
  }
 ],
 "metadata": {
  "kernelspec": {
   "display_name": "base",
   "language": "python",
   "name": "python3"
  },
  "language_info": {
   "name": "python",
   "version": "3.12.4"
  }
 },
 "nbformat": 4,
 "nbformat_minor": 2
}
