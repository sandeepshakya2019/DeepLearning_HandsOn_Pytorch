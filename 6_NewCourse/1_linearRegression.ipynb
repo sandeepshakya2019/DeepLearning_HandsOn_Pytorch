{
 "cells": [
  {
   "cell_type": "markdown",
   "metadata": {},
   "source": [
    "# LInear Regression"
   ]
  },
  {
   "cell_type": "code",
   "execution_count": 39,
   "metadata": {},
   "outputs": [
    {
     "name": "stdout",
     "output_type": "stream",
     "text": [
      "<class 'pandas.core.frame.DataFrame'>\n",
      "RangeIndex: 414 entries, 0 to 413\n",
      "Data columns (total 7 columns):\n",
      " #   Column                                  Non-Null Count  Dtype  \n",
      "---  ------                                  --------------  -----  \n",
      " 0   X1 transaction date                     414 non-null    float64\n",
      " 1   X2 house age                            414 non-null    float64\n",
      " 2   X3 distance to the nearest MRT station  414 non-null    float64\n",
      " 3   X4 number of convenience stores         414 non-null    int64  \n",
      " 4   X5 latitude                             414 non-null    float64\n",
      " 5   X6 longitude                            414 non-null    float64\n",
      " 6   Y house price of unit area              414 non-null    float64\n",
      "dtypes: float64(6), int64(1)\n",
      "memory usage: 22.8 KB\n"
     ]
    }
   ],
   "source": [
    "import pandas as pd\n",
    "\n",
    "readData = pd.read_csv(\"./0_datasets/Realestate.csv\")\n",
    "# print(readData)\n",
    "readData.drop(columns=[\"No\"], inplace=True)\n",
    "readData.info()\n",
    "# readData"
   ]
  },
  {
   "cell_type": "code",
   "execution_count": 40,
   "metadata": {},
   "outputs": [
    {
     "data": {
      "text/plain": [
       "(414, 6)"
      ]
     },
     "execution_count": 40,
     "metadata": {},
     "output_type": "execute_result"
    }
   ],
   "source": [
    "inputs = readData.iloc[:, :-1].to_numpy()\n",
    "inputs.shape"
   ]
  },
  {
   "cell_type": "code",
   "execution_count": 41,
   "metadata": {},
   "outputs": [
    {
     "data": {
      "text/plain": [
       "(414,)"
      ]
     },
     "execution_count": 41,
     "metadata": {},
     "output_type": "execute_result"
    }
   ],
   "source": [
    "targets =  readData.iloc[:, -1].to_numpy()\n",
    "targets.shape"
   ]
  },
  {
   "cell_type": "code",
   "execution_count": 42,
   "metadata": {},
   "outputs": [],
   "source": [
    "from sklearn.preprocessing import StandardScaler\n",
    "\n",
    "scaler = StandardScaler()\n",
    "\n",
    "inputs = scaler.fit_transform(inputs)"
   ]
  },
  {
   "cell_type": "code",
   "execution_count": 43,
   "metadata": {},
   "outputs": [
    {
     "data": {
      "text/plain": [
       "(torch.Size([414, 6]), torch.Size([414]))"
      ]
     },
     "execution_count": 43,
     "metadata": {},
     "output_type": "execute_result"
    }
   ],
   "source": [
    "import torch\n",
    "\n",
    "inputs = torch.tensor(inputs, dtype=torch.float32)\n",
    "targets = torch.tensor(targets, dtype=torch.float32)\n",
    "\n",
    "inputs.shape, targets.shape"
   ]
  },
  {
   "cell_type": "code",
   "execution_count": 44,
   "metadata": {},
   "outputs": [
    {
     "data": {
      "text/plain": [
       "(21, 6)"
      ]
     },
     "execution_count": 44,
     "metadata": {},
     "output_type": "execute_result"
    }
   ],
   "source": [
    "import torch\n",
    "import torch.nn as nn\n",
    "import torch.optim as optim\n",
    "from torch.utils.data import TensorDataset, DataLoader, random_split\n",
    "\n",
    "\n",
    "# Create Dataset and DataLoader\n",
    "dataset = TensorDataset(inputs, targets)\n",
    "\n",
    "# Split dataset into train (80%) and test (20%)\n",
    "train_size = int(0.8 * len(dataset))\n",
    "test_size = len(dataset) - train_size\n",
    "train_ds, test_ds = random_split(dataset, [train_size, test_size])\n",
    "\n",
    "train_loader = DataLoader(train_ds, batch_size=16, shuffle=True)  # Mini-batch training\n",
    "test_loader = DataLoader(test_ds, batch_size=16)\n",
    "\n",
    "len(train_loader), len(test_loader)"
   ]
  },
  {
   "cell_type": "code",
   "execution_count": 45,
   "metadata": {},
   "outputs": [
    {
     "name": "stdout",
     "output_type": "stream",
     "text": [
      "torch.Size([16, 6])\n",
      "torch.Size([16])\n"
     ]
    }
   ],
   "source": [
    "for x,label in train_loader:\n",
    "    print(x.shape)\n",
    "    print(label.shape)\n",
    "    break"
   ]
  },
  {
   "cell_type": "code",
   "execution_count": 46,
   "metadata": {},
   "outputs": [],
   "source": [
    "# ================== 2. Define Model ==================\n",
    "class LinearRegressionModel(nn.Module):\n",
    "    def __init__(self):\n",
    "        super().__init__()\n",
    "        self.linear = nn.Sequential(\n",
    "            nn.Linear(6,1024),\n",
    "            nn.Tanh(),\n",
    "            nn.Linear(1024,512),\n",
    "            nn.Tanh(),\n",
    "            nn.Linear(512,256),\n",
    "            nn.Tanh(),\n",
    "            nn.Linear(256,128),\n",
    "            nn.Tanh(),\n",
    "            nn.Linear(128,64),\n",
    "            nn.ReLU(),\n",
    "            nn.Linear(64,32),\n",
    "            nn.ReLU(),\n",
    "            nn.Linear(32,16),\n",
    "            nn.ReLU(),\n",
    "            nn.Linear(16,1),\n",
    "            nn.ReLU()\n",
    "        )\n",
    "\n",
    "    def forward(self, x):\n",
    "        return self.linear(x)\n",
    "    \n",
    "torch.manual_seed(4)\n",
    "\n",
    "model = LinearRegressionModel()\n"
   ]
  },
  {
   "cell_type": "code",
   "execution_count": 47,
   "metadata": {},
   "outputs": [],
   "source": [
    "dummy = torch.randn((10,6))\n",
    "# model(dummy)"
   ]
  },
  {
   "cell_type": "code",
   "execution_count": 48,
   "metadata": {},
   "outputs": [
    {
     "data": {
      "text/plain": [
       "==========================================================================================\n",
       "Layer (type:depth-idx)                   Output Shape              Param #\n",
       "==========================================================================================\n",
       "LinearRegressionModel                    [10, 1]                   --\n",
       "├─Sequential: 1-1                        [10, 1]                   --\n",
       "│    └─Linear: 2-1                       [10, 1024]                7,168\n",
       "│    └─Tanh: 2-2                         [10, 1024]                --\n",
       "│    └─Linear: 2-3                       [10, 512]                 524,800\n",
       "│    └─Tanh: 2-4                         [10, 512]                 --\n",
       "│    └─Linear: 2-5                       [10, 256]                 131,328\n",
       "│    └─Tanh: 2-6                         [10, 256]                 --\n",
       "│    └─Linear: 2-7                       [10, 128]                 32,896\n",
       "│    └─Tanh: 2-8                         [10, 128]                 --\n",
       "│    └─Linear: 2-9                       [10, 64]                  8,256\n",
       "│    └─ReLU: 2-10                        [10, 64]                  --\n",
       "│    └─Linear: 2-11                      [10, 32]                  2,080\n",
       "│    └─ReLU: 2-12                        [10, 32]                  --\n",
       "│    └─Linear: 2-13                      [10, 16]                  528\n",
       "│    └─ReLU: 2-14                        [10, 16]                  --\n",
       "│    └─Linear: 2-15                      [10, 1]                   17\n",
       "│    └─ReLU: 2-16                        [10, 1]                   --\n",
       "==========================================================================================\n",
       "Total params: 707,073\n",
       "Trainable params: 707,073\n",
       "Non-trainable params: 0\n",
       "Total mult-adds (Units.MEGABYTES): 7.07\n",
       "==========================================================================================\n",
       "Input size (MB): 0.00\n",
       "Forward/backward pass size (MB): 0.16\n",
       "Params size (MB): 2.83\n",
       "Estimated Total Size (MB): 2.99\n",
       "=========================================================================================="
      ]
     },
     "execution_count": 48,
     "metadata": {},
     "output_type": "execute_result"
    }
   ],
   "source": [
    "from torchinfo import summary\n",
    "\n",
    "summary(model, input_size=(10,6))"
   ]
  },
  {
   "cell_type": "code",
   "execution_count": 49,
   "metadata": {},
   "outputs": [],
   "source": [
    "# ================== 3. Define Loss and Optimizer ==================\n",
    "loss_fn = nn.MSELoss()  # Mean Squared Error Loss\n",
    "optimizer = optim.Adam(model.parameters(), lr=0.001)  # Small learning rate for stability"
   ]
  },
  {
   "cell_type": "code",
   "execution_count": 50,
   "metadata": {},
   "outputs": [
    {
     "data": {
      "application/vnd.jupyter.widget-view+json": {
       "model_id": "70a06acd556449c1b9a6c3ecb2123bfb",
       "version_major": 2,
       "version_minor": 0
      },
      "text/plain": [
       "  0%|          | 0/100 [00:00<?, ?it/s]"
      ]
     },
     "metadata": {},
     "output_type": "display_data"
    },
    {
     "name": "stdout",
     "output_type": "stream",
     "text": [
      "Epoch 10/100, Avg Loss: 183.6805\n",
      "Epoch 20/100, Avg Loss: 183.6093\n",
      "Epoch 30/100, Avg Loss: 100.0897\n",
      "Epoch 40/100, Avg Loss: 63.4814\n",
      "Epoch 50/100, Avg Loss: 49.8473\n",
      "Epoch 60/100, Avg Loss: 39.0966\n",
      "Epoch 70/100, Avg Loss: 32.2105\n",
      "Epoch 80/100, Avg Loss: 34.0986\n",
      "Epoch 90/100, Avg Loss: 20.8174\n",
      "Epoch 100/100, Avg Loss: 16.7403\n"
     ]
    }
   ],
   "source": [
    "# ================== 4. Training Loop ==================\n",
    "from tqdm.auto import tqdm \n",
    "epochs = 100  # Number of training iterations\n",
    "\n",
    "for epoch in tqdm(range(epochs)):\n",
    "    model.train()  # Ensure model is in training mode\n",
    "    epoch_loss = 0  # Track total loss\n",
    "\n",
    "    for batch_inputs, batch_targets in train_loader:\n",
    "        optimizer.zero_grad()  # Reset gradients\n",
    "        predictions = model(batch_inputs)  # Forward pass\n",
    "        loss = loss_fn(predictions, batch_targets.unsqueeze(1))\n",
    "        loss.backward()  # Backpropagation\n",
    "        optimizer.step()  # Update model parameters\n",
    "\n",
    "        epoch_loss += loss  # Accumulate loss\n",
    "    # Print average loss every 10 epochs\n",
    "    if (epoch + 1) % 10 == 0:\n",
    "        avg_loss = epoch_loss / len(train_loader)  # Compute average loss\n",
    "        print(f\"Epoch {epoch+1}/{epochs}, Avg Loss: {avg_loss:.4f}\")\n"
   ]
  },
  {
   "cell_type": "code",
   "execution_count": 51,
   "metadata": {},
   "outputs": [
    {
     "name": "stdout",
     "output_type": "stream",
     "text": [
      "\n",
      "Test Loss: 46.8682\n"
     ]
    }
   ],
   "source": [
    "\n",
    "model.eval()  # Set model to evaluation mode\n",
    "test_loss = 0.0\n",
    "\n",
    "with torch.no_grad():  # No need to compute gradients for testing\n",
    "    for test_inputs, test_targets in test_loader:\n",
    "        test_predictions = model(test_inputs)\n",
    "        test_loss += loss_fn(test_predictions, test_targets.unsqueeze(1)).item()\n",
    "\n",
    "print(f\"\\nTest Loss: {test_loss / len(test_loader):.4f}\")\n",
    "\n"
   ]
  },
  {
   "cell_type": "code",
   "execution_count": null,
   "metadata": {},
   "outputs": [],
   "source": []
  },
  {
   "cell_type": "code",
   "execution_count": null,
   "metadata": {},
   "outputs": [],
   "source": []
  },
  {
   "cell_type": "code",
   "execution_count": null,
   "metadata": {},
   "outputs": [],
   "source": []
  },
  {
   "cell_type": "code",
   "execution_count": null,
   "metadata": {},
   "outputs": [],
   "source": []
  },
  {
   "cell_type": "code",
   "execution_count": null,
   "metadata": {},
   "outputs": [],
   "source": []
  },
  {
   "cell_type": "code",
   "execution_count": null,
   "metadata": {},
   "outputs": [],
   "source": []
  },
  {
   "cell_type": "markdown",
   "metadata": {},
   "source": []
  }
 ],
 "metadata": {
  "kernelspec": {
   "display_name": "base",
   "language": "python",
   "name": "python3"
  },
  "language_info": {
   "codemirror_mode": {
    "name": "ipython",
    "version": 3
   },
   "file_extension": ".py",
   "mimetype": "text/x-python",
   "name": "python",
   "nbconvert_exporter": "python",
   "pygments_lexer": "ipython3",
   "version": "3.12.4"
  }
 },
 "nbformat": 4,
 "nbformat_minor": 2
}
