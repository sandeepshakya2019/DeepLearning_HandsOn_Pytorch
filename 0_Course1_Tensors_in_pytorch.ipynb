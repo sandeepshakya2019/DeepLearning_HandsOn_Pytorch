{
  "cells": [
    {
      "cell_type": "markdown",
      "metadata": {
        "colab_type": "text",
        "id": "view-in-github"
      },
      "source": [
        "<a href=\"https://colab.research.google.com/github/sandeepshakya2019/DeepLearning_HandsOn_Pytorch/blob/main/0_Course1_Tensors_in_pytorch.ipynb\" target=\"_parent\"><img src=\"https://colab.research.google.com/assets/colab-badge.svg\" alt=\"Open In Colab\"/></a>"
      ]
    },
    {
      "cell_type": "code",
      "execution_count": null,
      "metadata": {
        "id": "78kmMY_40Klw"
      },
      "outputs": [],
      "source": [
        "# Daniel Bourke (ML Engineer)"
      ]
    },
    {
      "cell_type": "markdown",
      "metadata": {
        "id": "3VPUWWTbGNrM"
      },
      "source": [
        "## PyTorch Fundamentals"
      ]
    },
    {
      "cell_type": "code",
      "execution_count": 2,
      "metadata": {
        "colab": {
          "base_uri": "https://localhost:8080/"
        },
        "id": "kNTzHEVCG1nv",
        "outputId": "4e117200-c836-4b44-f35d-a6355ee46873"
      },
      "outputs": [
        {
          "name": "stdout",
          "output_type": "stream",
          "text": [
            "2.5.1+cpu\n"
          ]
        }
      ],
      "source": [
        "import torch\n",
        "import pandas as pd\n",
        "import numpy as np\n",
        "import matplotlib.pyplot as plt\n",
        "\n",
        "print(torch.__version__)"
      ]
    },
    {
      "cell_type": "markdown",
      "metadata": {
        "id": "FDpmi8OeViDh"
      },
      "source": [
        "## Introduction to Tensors\n",
        "\n",
        "Repersents the Numberical Data `torch.tensor()`"
      ]
    },
    {
      "cell_type": "markdown",
      "metadata": {
        "id": "Cp7_g4rFZ6Wk"
      },
      "source": [
        "### Scalar"
      ]
    },
    {
      "cell_type": "code",
      "execution_count": null,
      "metadata": {
        "colab": {
          "base_uri": "https://localhost:8080/"
        },
        "id": "zzZ5EmwfG6l_",
        "outputId": "1184721a-e038-4a92-9ba6-8fb9ae10d0ed"
      },
      "outputs": [
        {
          "data": {
            "text/plain": [
              "tensor(7)"
            ]
          },
          "execution_count": 7,
          "metadata": {},
          "output_type": "execute_result"
        }
      ],
      "source": [
        "# scalar\n",
        "s = torch.tensor(7)\n",
        "s"
      ]
    },
    {
      "cell_type": "code",
      "execution_count": null,
      "metadata": {
        "colab": {
          "base_uri": "https://localhost:8080/"
        },
        "id": "Dh2_bD_kVFR_",
        "outputId": "8c8a9cc4-e5f8-4242-aa53-a923a8656506"
      },
      "outputs": [
        {
          "data": {
            "text/plain": [
              "(0, 7, torch.Size([]))"
            ]
          },
          "execution_count": 33,
          "metadata": {},
          "output_type": "execute_result"
        }
      ],
      "source": [
        "s.ndim, s.item(), s.size()"
      ]
    },
    {
      "cell_type": "markdown",
      "metadata": {
        "id": "TCb_BQjOZqGz"
      },
      "source": [
        "### ceating a vector"
      ]
    },
    {
      "cell_type": "code",
      "execution_count": null,
      "metadata": {
        "colab": {
          "base_uri": "https://localhost:8080/"
        },
        "id": "dGDUk0DJVFUf",
        "outputId": "ea7c0d7c-ec39-4c09-ab3c-1348d204b311"
      },
      "outputs": [
        {
          "data": {
            "text/plain": [
              "tensor([7, 7])"
            ]
          },
          "execution_count": 34,
          "metadata": {},
          "output_type": "execute_result"
        }
      ],
      "source": [
        "# vector\n",
        "vec = torch.tensor([7, 7])\n",
        "vec # it is always into column vector"
      ]
    },
    {
      "cell_type": "code",
      "execution_count": null,
      "metadata": {
        "colab": {
          "base_uri": "https://localhost:8080/"
        },
        "id": "Nv6XUx5-VFW_",
        "outputId": "bd575a25-caeb-4b9e-8dc1-f909e95629c2"
      },
      "outputs": [
        {
          "data": {
            "text/plain": [
              "(1, torch.Size([2]), torch.Size([2]))"
            ]
          },
          "execution_count": 35,
          "metadata": {},
          "output_type": "execute_result"
        }
      ],
      "source": [
        "vec.ndim, vec.shape, vec.size()\n",
        "# vec.item() doesn't work here cn't convcert to python integer"
      ]
    },
    {
      "cell_type": "markdown",
      "metadata": {
        "id": "C1xIk93iZtub"
      },
      "source": [
        "### Creating a 2D MAtrix"
      ]
    },
    {
      "cell_type": "code",
      "execution_count": null,
      "metadata": {
        "colab": {
          "base_uri": "https://localhost:8080/"
        },
        "id": "iKUPkR1PVFZe",
        "outputId": "0f98e460-8212-48f5-b076-d612ff1f3259"
      },
      "outputs": [
        {
          "data": {
            "text/plain": [
              "tensor([[7, 8],\n",
              "        [8, 6],\n",
              "        [8, 9]])"
            ]
          },
          "execution_count": 36,
          "metadata": {},
          "output_type": "execute_result"
        }
      ],
      "source": [
        "# MATRIX (m*n)\n",
        "# m rows first and then n column second\n",
        "mat = torch.tensor([[7,8],[8,6],[8,9]])\n",
        "mat"
      ]
    },
    {
      "cell_type": "code",
      "execution_count": null,
      "metadata": {
        "colab": {
          "base_uri": "https://localhost:8080/"
        },
        "id": "BEMcCxCgVFcd",
        "outputId": "9ada3676-4cfe-4906-bc12-941cb42069fd"
      },
      "outputs": [
        {
          "data": {
            "text/plain": [
              "(torch.Size([3, 2]), 2, torch.Size([3, 2]))"
            ]
          },
          "execution_count": 37,
          "metadata": {},
          "output_type": "execute_result"
        }
      ],
      "source": [
        "mat.shape, mat.ndim, mat.size()"
      ]
    },
    {
      "cell_type": "code",
      "execution_count": null,
      "metadata": {
        "colab": {
          "base_uri": "https://localhost:8080/"
        },
        "id": "ZUinTjA0VFfO",
        "outputId": "264fc3ac-dbec-4cb1-a2ee-edfffb6056a9"
      },
      "outputs": [
        {
          "data": {
            "text/plain": [
              "(tensor([7, 8]), 8)"
            ]
          },
          "execution_count": 38,
          "metadata": {},
          "output_type": "execute_result"
        }
      ],
      "source": [
        "mat[0], mat[0][1].item()"
      ]
    },
    {
      "cell_type": "markdown",
      "metadata": {
        "id": "zlDbDfDfZzik"
      },
      "source": [
        "### Creating a  Tensor (more then 2 dimension)"
      ]
    },
    {
      "cell_type": "code",
      "execution_count": null,
      "metadata": {
        "id": "UK4hJu5mVFh8"
      },
      "outputs": [],
      "source": [
        "# Tensor\n",
        "t = torch.tensor([[[1,2,3],\n",
        "                  [8,9,6]],[[1,2,3],\n",
        "                  [8,9,6]]])"
      ]
    },
    {
      "cell_type": "code",
      "execution_count": null,
      "metadata": {
        "colab": {
          "base_uri": "https://localhost:8080/"
        },
        "id": "A2UuIwREVFkd",
        "outputId": "f297ea15-908c-4fb9-e4c4-8e385120f4a9"
      },
      "outputs": [
        {
          "data": {
            "text/plain": [
              "(torch.Size([2, 2, 3]), torch.Size([2, 2, 3]), 3)"
            ]
          },
          "execution_count": 48,
          "metadata": {},
          "output_type": "execute_result"
        }
      ],
      "source": [
        "t.size(), t.shape, t.ndim"
      ]
    },
    {
      "cell_type": "markdown",
      "metadata": {
        "id": "-yleyW4NZ-Cs"
      },
      "source": [
        "### Random Tensors\n",
        "`torch.rand(size=(m,n,p))`\n",
        "\n",
        "`torch.randint(start,end,size = (3,4, 8))`"
      ]
    },
    {
      "cell_type": "code",
      "execution_count": null,
      "metadata": {
        "colab": {
          "base_uri": "https://localhost:8080/"
        },
        "id": "OIkBqP5gVFnl",
        "outputId": "e9e2dbcc-d454-45e2-b02b-b6cfb5dee1c3"
      },
      "outputs": [
        {
          "data": {
            "text/plain": [
              "tensor([[[0.3397, 0.5221, 0.2859, 0.4577],\n",
              "         [0.3927, 0.1474, 0.4225, 0.3194],\n",
              "         [0.7556, 0.8165, 0.4391, 0.2882]],\n",
              "\n",
              "        [[0.8573, 0.5391, 0.6876, 0.8587],\n",
              "         [0.1411, 0.3927, 0.8294, 0.8323],\n",
              "         [0.5703, 0.0435, 0.4322, 0.0857]]])"
            ]
          },
          "execution_count": 55,
          "metadata": {},
          "output_type": "execute_result"
        }
      ],
      "source": [
        "vec = torch.rand(2,3,4)\n",
        "# vec = torch.rand(3,4) #(3*4) dim\n",
        "vec\n",
        "# Gradient Descent starts with Random assigning of w and then update as go ahead"
      ]
    },
    {
      "cell_type": "code",
      "execution_count": null,
      "metadata": {
        "colab": {
          "base_uri": "https://localhost:8080/"
        },
        "id": "ylAw0VOEVFqG",
        "outputId": "5c87f436-e07d-402f-c4f7-1e7f25486602"
      },
      "outputs": [
        {
          "data": {
            "text/plain": [
              "(3, torch.Size([2, 3, 4]), torch.Size([2, 3, 4]))"
            ]
          },
          "execution_count": 56,
          "metadata": {},
          "output_type": "execute_result"
        }
      ],
      "source": [
        "vec.ndim, vec.shape, vec.size()"
      ]
    },
    {
      "cell_type": "code",
      "execution_count": null,
      "metadata": {
        "colab": {
          "base_uri": "https://localhost:8080/"
        },
        "id": "GW4cgqhVVFs-",
        "outputId": "e7d4ba04-e2ff-41de-bcb3-cb563bf4208a"
      },
      "outputs": [
        {
          "data": {
            "text/plain": [
              "tensor([[96, 93, 31, 44],\n",
              "        [88, 14, 58, 66],\n",
              "        [ 3, 80, 40, 62]])"
            ]
          },
          "execution_count": 59,
          "metadata": {},
          "output_type": "execute_result"
        }
      ],
      "source": [
        "# rand_int_tensor = torch.randint(1,100,(2,3,4))\n",
        "rand_int_tensor = torch.randint(1,100,(3,4))\n",
        "rand_int_tensor"
      ]
    },
    {
      "cell_type": "code",
      "execution_count": null,
      "metadata": {
        "colab": {
          "base_uri": "https://localhost:8080/"
        },
        "id": "bfzUnJ1gVFwG",
        "outputId": "b29eaab1-c868-4365-ab16-e465e6dd228e"
      },
      "outputs": [
        {
          "data": {
            "text/plain": [
              "12"
            ]
          },
          "execution_count": 61,
          "metadata": {},
          "output_type": "execute_result"
        }
      ],
      "source": [
        "rand_int_tensor.numel()"
      ]
    },
    {
      "cell_type": "markdown",
      "metadata": {
        "id": "k8E74yuBbL2E"
      },
      "source": [
        "### Convert random tesnor to image"
      ]
    },
    {
      "cell_type": "code",
      "execution_count": null,
      "metadata": {
        "id": "hZh3fgkTVFy4"
      },
      "outputs": [],
      "source": [
        "random_iange_size_tensor = torch.rand(size=(3,224,224)) # colour_channel, height, width,"
      ]
    },
    {
      "cell_type": "code",
      "execution_count": null,
      "metadata": {
        "colab": {
          "base_uri": "https://localhost:8080/"
        },
        "id": "5-xvG341VF1d",
        "outputId": "1ae97f07-254e-43d6-c8ae-71fda6c6fabd"
      },
      "outputs": [
        {
          "data": {
            "text/plain": [
              "(torch.Size([3, 224, 224]), 150528, 3, torch.float32)"
            ]
          },
          "execution_count": 83,
          "metadata": {},
          "output_type": "execute_result"
        }
      ],
      "source": [
        "random_iange_size_tensor.shape, random_iange_size_tensor.numel(), random_iange_size_tensor.ndim, random_iange_size_tensor.dtype"
      ]
    },
    {
      "cell_type": "code",
      "execution_count": null,
      "metadata": {
        "colab": {
          "base_uri": "https://localhost:8080/",
          "height": 213
        },
        "id": "W5askeK3VF4P",
        "outputId": "1bf4e8e3-a35d-4d0b-93b2-f590ab6cb6c4"
      },
      "outputs": [
        {
          "data": {
            "image/png": "[encoded data removed]",
            "text/plain": [
              "<Figure size 200x200 with 1 Axes>"
            ]
          },
          "metadata": {},
          "output_type": "display_data"
        }
      ],
      "source": [
        "# Random tensor with size (3, 224, 224) -> (Color Channels, Height, Width)\n",
        "random_image_tensor = torch.rand(size=(3, 224, 224))\n",
        "\n",
        "# Convert tensor to NumPy array and rearrange dimensions to (Height, Width, Color Channels)\n",
        "image = random_image_tensor.permute(1, 2, 0).numpy()\n",
        "\n",
        "# Display the image using Matplotlib\n",
        "plt.figure(figsize=(2, 2))\n",
        "plt.imshow(image)\n",
        "plt.axis('off')  # Turn off axes\n",
        "plt.title(\"Random Image\")\n",
        "plt.show()"
      ]
    },
    {
      "cell_type": "markdown",
      "metadata": {
        "id": "7dK0MJeRcl12"
      },
      "source": [
        "### Create tensors full of something\n",
        "\n",
        "`torch.zeros(size=(a,b,c), dtype=torch.int)`\n",
        "\n",
        "`torch.ones(size=(a,b,c), dtype=torch.int)`"
      ]
    },
    {
      "cell_type": "code",
      "execution_count": null,
      "metadata": {
        "colab": {
          "base_uri": "https://localhost:8080/"
        },
        "id": "Q0dDpXZyb6Xi",
        "outputId": "9897a6cf-21eb-453a-fd5d-f8086bd48a71"
      },
      "outputs": [
        {
          "data": {
            "text/plain": [
              "tensor([[0, 0, 0],\n",
              "        [0, 0, 0]], dtype=torch.int32)"
            ]
          },
          "execution_count": 82,
          "metadata": {},
          "output_type": "execute_result"
        }
      ],
      "source": [
        "zer = torch.zeros(size=(2,3),  dtype=torch.int)\n",
        "zer"
      ]
    },
    {
      "cell_type": "code",
      "execution_count": null,
      "metadata": {
        "colab": {
          "base_uri": "https://localhost:8080/"
        },
        "id": "0KT0Vijlcrgo",
        "outputId": "6ef272be-3755-48bb-b18c-31acf36658f5"
      },
      "outputs": [
        {
          "data": {
            "text/plain": [
              "tensor([[1, 1, 1],\n",
              "        [1, 1, 1]], dtype=torch.int32)"
            ]
          },
          "execution_count": 84,
          "metadata": {},
          "output_type": "execute_result"
        }
      ],
      "source": [
        "one = torch.ones(size=(2,3),  dtype=torch.int)\n",
        "one"
      ]
    },
    {
      "cell_type": "markdown",
      "metadata": {
        "id": "UhNwakZwdaxr"
      },
      "source": [
        "### Create Range Tensors and tensors-like\n",
        "\n",
        "`torch.arange(start,end, step)`\n",
        "\n"
      ]
    },
    {
      "cell_type": "code",
      "execution_count": null,
      "metadata": {
        "colab": {
          "base_uri": "https://localhost:8080/"
        },
        "id": "I3RoSS1mdGiK",
        "outputId": "52771e6f-7ab0-4086-a8a0-5a9a4b54efed"
      },
      "outputs": [
        {
          "data": {
            "text/plain": [
              "tensor([0, 2, 4, 6, 8])"
            ]
          },
          "execution_count": 90,
          "metadata": {},
          "output_type": "execute_result"
        }
      ],
      "source": [
        "# r = torch.range(0,10,5)\n",
        "r = torch.arange(0,10,2)\n",
        "r"
      ]
    },
    {
      "cell_type": "code",
      "execution_count": null,
      "metadata": {
        "colab": {
          "base_uri": "https://localhost:8080/"
        },
        "id": "yRvyMsw2eEYI",
        "outputId": "aa090f62-4bc9-4091-cd2d-962260bf7a04"
      },
      "outputs": [
        {
          "data": {
            "text/plain": [
              "tensor([1, 1, 1, 1, 1])"
            ]
          },
          "execution_count": 92,
          "metadata": {},
          "output_type": "execute_result"
        }
      ],
      "source": [
        "# Creating a tesnor like same shape\n",
        "# r_like = torch.zeros_like(input=r)\n",
        "r_like = torch.ones_like(input=r)\n",
        "r_like"
      ]
    },
    {
      "cell_type": "markdown",
      "metadata": {
        "id": "q05rks0ve7Ke"
      },
      "source": [
        "### Tesnors Datatypes\n",
        "\n",
        "`torch.rand(size=(2,3))` or `torch.rand(size=(2,3))` is same give dtype=torch.float32\n",
        "\n",
        "`defualt_dtype = torch.rand(size=(2,3), dtype=torch.float64)`\n",
        "\n",
        "`defualt_dtype = torch.tensor(data=[[2.22,3],[3,2]], dtype=torch.int)`\n",
        "\n",
        "`torch.int`,\n",
        "`torch.int64`,\n",
        "`torch.float`,\n",
        "`torch.float16`,\n",
        "`torch.float64`,\n",
        "`torch.complex`,\n",
        "\n",
        "`defualt_dtype.type(torch.int32)`\n",
        "\n",
        "\n",
        "\n"
      ]
    },
    {
      "cell_type": "code",
      "execution_count": null,
      "metadata": {
        "colab": {
          "base_uri": "https://localhost:8080/"
        },
        "id": "MJ_TFm3IeETm",
        "outputId": "d81087bf-61c5-4978-b001-ace7d23230ba"
      },
      "outputs": [
        {
          "data": {
            "text/plain": [
              "tensor([[2, 3],\n",
              "        [3, 2]], dtype=torch.int32)"
            ]
          },
          "execution_count": 113,
          "metadata": {},
          "output_type": "execute_result"
        }
      ],
      "source": [
        "# defualt_dtype = torch.rand(size=(2,3), dtype=torch.float64)\n",
        "# defualt_dtype = torch.rand(size=(2,3), dtype=None)\n",
        "defualt_dtype = torch.tensor(data=[[2.22,3],[3,2]],\n",
        "                             dtype=torch.int, # data types of tensors data\n",
        "                             device=None, # device=\"cpu\", device=\"cuda\"\n",
        "                             requires_grad=False) # to check the gradient of the tensors\n",
        "defualt_dtype"
      ]
    },
    {
      "cell_type": "code",
      "execution_count": null,
      "metadata": {
        "colab": {
          "base_uri": "https://localhost:8080/"
        },
        "id": "T3yiNix7eEQf",
        "outputId": "c44af3a3-ceb1-4f89-e9fb-66052c8a2bf7"
      },
      "outputs": [
        {
          "data": {
            "text/plain": [
              "torch.int32"
            ]
          },
          "execution_count": 114,
          "metadata": {},
          "output_type": "execute_result"
        }
      ],
      "source": [
        "defualt_dtype.dtype"
      ]
    },
    {
      "cell_type": "markdown",
      "metadata": {
        "id": "3_sNDYZBg51S"
      },
      "source": [
        "### Tensors Attributes"
      ]
    },
    {
      "cell_type": "code",
      "execution_count": null,
      "metadata": {
        "colab": {
          "base_uri": "https://localhost:8080/"
        },
        "id": "1_pYkavMeEOf",
        "outputId": "0f0bd4b5-375d-435c-9e9d-662bdc0798b8"
      },
      "outputs": [
        {
          "name": "stdout",
          "output_type": "stream",
          "text": [
            "tensor([[0.7894, 0.2433, 0.9301, 0.1124],\n",
            "        [0.2303, 0.9337, 0.7205, 0.5953],\n",
            "        [0.4888, 0.5765, 0.9405, 0.6624]])\n",
            "Shape of tensor: torch.Size([3, 4])\n",
            "Datatype of tensor: torch.float32\n",
            "Device tensor is stored on: cpu\n"
          ]
        }
      ],
      "source": [
        "# Create a tensor\n",
        "some_tensor = torch.rand(3, 4)\n",
        "\n",
        "# Find out details about it\n",
        "print(some_tensor)\n",
        "print(f\"Shape of tensor: {some_tensor.shape}\")\n",
        "print(f\"Datatype of tensor: {some_tensor.dtype}\")\n",
        "print(f\"Device tensor is stored on: {some_tensor.device}\") # will default to CPU"
      ]
    },
    {
      "cell_type": "markdown",
      "metadata": {
        "id": "AtxtXWReiGCy"
      },
      "source": [
        "## Tensors Operations\n",
        "\n",
        "`torch.mul(a,b)` `torch.mul(a,10)` `torch.add(a,b)` `a*b` `a/b` `a+b` `a-b`\n",
        "`torch.matmul(a,b)`"
      ]
    },
    {
      "cell_type": "code",
      "execution_count": null,
      "metadata": {
        "colab": {
          "base_uri": "https://localhost:8080/"
        },
        "id": "K1l8pDnCeEMK",
        "outputId": "8fa127bd-4b7b-466d-a3fe-44df8ceda224"
      },
      "outputs": [
        {
          "data": {
            "text/plain": [
              "(tensor([[2, 1, 1],\n",
              "         [3, 4, 4]]),\n",
              " tensor([[2, 2, 3],\n",
              "         [3, 4, 1]]))"
            ]
          },
          "execution_count": 122,
          "metadata": {},
          "output_type": "execute_result"
        }
      ],
      "source": [
        "a = torch.randint(1,5,size=(2,3))\n",
        "b = torch.randint(1,5,size=(2,3))\n",
        "a, b"
      ]
    },
    {
      "cell_type": "code",
      "execution_count": null,
      "metadata": {
        "colab": {
          "base_uri": "https://localhost:8080/"
        },
        "id": "cuguSIrMeEJj",
        "outputId": "6a4af185-5d89-40cb-9f37-de1fad615a32"
      },
      "outputs": [
        {
          "data": {
            "text/plain": [
              "(tensor([[12, 11, 11],\n",
              "         [13, 14, 14]]),\n",
              " tensor([[20, 10, 10],\n",
              "         [30, 40, 40]]),\n",
              " tensor([[-8, -9, -9],\n",
              "         [-7, -6, -6]]),\n",
              " tensor([[4, 3, 4],\n",
              "         [6, 8, 5]]),\n",
              " tensor([[ 0, -1, -2],\n",
              "         [ 0,  0,  3]]),\n",
              " tensor([[ 4,  2,  3],\n",
              "         [ 9, 16,  4]]),\n",
              " tensor([[1.0000, 0.5000, 0.3333],\n",
              "         [1.0000, 1.0000, 4.0000]]))"
            ]
          },
          "execution_count": 123,
          "metadata": {},
          "output_type": "execute_result"
        }
      ],
      "source": [
        "a+10, a*10, a-10, a+b, a-b, a*b, a/b"
      ]
    },
    {
      "cell_type": "code",
      "execution_count": null,
      "metadata": {
        "colab": {
          "base_uri": "https://localhost:8080/"
        },
        "id": "flWGLCCYeEHA",
        "outputId": "23ab05ee-3c76-4bd4-e617-bf34995538b5"
      },
      "outputs": [
        {
          "data": {
            "text/plain": [
              "tensor([[1, 0, 0],\n",
              "        [1, 1, 4]], dtype=torch.int32)"
            ]
          },
          "execution_count": 124,
          "metadata": {},
          "output_type": "execute_result"
        }
      ],
      "source": [
        "abyb = a/b\n",
        "abyb.type(torch.int)"
      ]
    },
    {
      "cell_type": "code",
      "execution_count": null,
      "metadata": {
        "colab": {
          "base_uri": "https://localhost:8080/"
        },
        "id": "HeXvHE9MeEEf",
        "outputId": "cec84f13-ebc8-47ee-fa9f-acbcd40818c6"
      },
      "outputs": [
        {
          "data": {
            "text/plain": [
              "(torch.Size([2, 3]), torch.Size([3, 2]))"
            ]
          },
          "execution_count": 131,
          "metadata": {},
          "output_type": "execute_result"
        }
      ],
      "source": [
        "# Matrix multiplication (dot product)\n",
        "a = torch.randint(1,5,size=(2,3))\n",
        "b = torch.randint(1,5,size=(3,2))\n",
        "torch.matmul(a, b)\n",
        "a.size(), b.size()"
      ]
    },
    {
      "cell_type": "code",
      "execution_count": null,
      "metadata": {
        "colab": {
          "base_uri": "https://localhost:8080/"
        },
        "id": "OiyHmMVfeECI",
        "outputId": "10a7f7e2-42a7-495e-cc0f-5f15aa24a177"
      },
      "outputs": [
        {
          "data": {
            "text/plain": [
              "tensor([[18]])"
            ]
          },
          "execution_count": 133,
          "metadata": {},
          "output_type": "execute_result"
        }
      ],
      "source": [
        "# dot product\n",
        "a = torch.randint(1,5,size=(1,3))\n",
        "b = torch.randint(1,5,size=(3,1))\n",
        "torch.matmul(a, b)"
      ]
    },
    {
      "cell_type": "code",
      "execution_count": null,
      "metadata": {
        "colab": {
          "base_uri": "https://localhost:8080/"
        },
        "id": "3Ix1jSXYeD-X",
        "outputId": "64f1a0e5-5f0b-4f92-f769-52ab4d333bac"
      },
      "outputs": [
        {
          "data": {
            "text/plain": [
              "(tensor([1, 4, 9]), tensor(14), tensor(14))"
            ]
          },
          "execution_count": 138,
          "metadata": {},
          "output_type": "execute_result"
        }
      ],
      "source": [
        "tensor = torch.tensor([1, 2, 3])\n",
        "# .matmul can works as dot product also\n",
        "tensor * tensor, torch.matmul(tensor, tensor), torch.matmul(tensor, tensor.T)"
      ]
    },
    {
      "cell_type": "markdown",
      "metadata": {
        "id": "O5Fi0omovdNB"
      },
      "source": [
        "## min max mean sum"
      ]
    },
    {
      "cell_type": "code",
      "execution_count": null,
      "metadata": {
        "id": "mk24_rS1eD7p"
      },
      "outputs": [],
      "source": [
        "## Min max Sum"
      ]
    },
    {
      "cell_type": "code",
      "execution_count": null,
      "metadata": {
        "id": "Fob_Qe97dm-t"
      },
      "outputs": [],
      "source": [
        "# Chanbegs"
      ]
    }
  ],
  "metadata": {
    "colab": {
      "authorship_tag": "ABX9TyPzL5FoVqP3F5hM0kYkiR93",
      "collapsed_sections": [
        "3VPUWWTbGNrM",
        "FDpmi8OeViDh",
        "Cp7_g4rFZ6Wk",
        "TCb_BQjOZqGz",
        "C1xIk93iZtub",
        "zlDbDfDfZzik",
        "-yleyW4NZ-Cs",
        "k8E74yuBbL2E",
        "7dK0MJeRcl12",
        "UhNwakZwdaxr",
        "q05rks0ve7Ke",
        "3_sNDYZBg51S"
      ],
      "include_colab_link": true,
      "provenance": []
    },
    "kernelspec": {
      "display_name": "base",
      "language": "python",
      "name": "python3"
    },
    "language_info": {
      "codemirror_mode": {
        "name": "ipython",
        "version": 3
      },
      "file_extension": ".py",
      "mimetype": "text/x-python",
      "name": "python",
      "nbconvert_exporter": "python",
      "pygments_lexer": "ipython3",
      "version": "3.12.4"
    }
  },
  "nbformat": 4,
  "nbformat_minor": 0
}
